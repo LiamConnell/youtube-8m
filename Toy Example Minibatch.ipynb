{
 "cells": [
  {
   "cell_type": "code",
   "execution_count": 1,
   "metadata": {},
   "outputs": [
    {
     "name": "stderr",
     "output_type": "stream",
     "text": [
      "/home/ec2-user/anaconda3/lib/python3.6/site-packages/h5py/__init__.py:36: FutureWarning: Conversion of the second argument of issubdtype from `float` to `np.floating` is deprecated. In future, it will be treated as `np.float64 == np.dtype(float).type`.\n",
      "  from ._conv import register_converters as _register_converters\n"
     ]
    }
   ],
   "source": [
    "import tensorflow as tf\n",
    "import numpy as np\n",
    "import os\n",
    "from utils import *\n",
    "from sklearn.preprocessing import MultiLabelBinarizer\n",
    "import datetime\n",
    "import pandas as pd\n",
    "\n",
    "from tensorflow.python.saved_model import tag_constants\n",
    "\n",
    "\n",
    "import tensorflow.contrib.slim as slim\n",
    "\n",
    "from apc import AveragePrecisionCalculator\n",
    "\n",
    "import matplotlib.pyplot as plt\n"
   ]
  },
  {
   "cell_type": "code",
   "execution_count": 2,
   "metadata": {},
   "outputs": [],
   "source": [
    "import hashlib\n",
    "import itertools\n",
    "import json\n",
    "import os\n",
    "from six.moves import urllib\n",
    "import sys"
   ]
  },
  {
   "cell_type": "code",
   "execution_count": null,
   "metadata": {},
   "outputs": [],
   "source": [
    "tf.reset_default_graph()"
   ]
  },
  {
   "cell_type": "code",
   "execution_count": 3,
   "metadata": {},
   "outputs": [],
   "source": [
    "def build_graph(tstep_size=1e-3):\n",
    "    xdim = 1024+128\n",
    "    ydim = 3862\n",
    "    X = tf.placeholder(tf.float32, shape=[None, xdim], name='X')\n",
    "    Y = tf.placeholder(tf.float32, shape=[None, ydim], name='Y')\n",
    "    keep_prob = tf.placeholder(tf.float32, name='keep_prob')\n",
    "\n",
    "    \n",
    "    x_img, x_audio = tf.split(X, [1024, 128], axis=-1)\n",
    "\n",
    "    img_reshape = tf.reshape(x_img, [-1, 32, 32, 1])\n",
    "\n",
    "    h1 = lrelu(conv2d(img_reshape, 1, 16, 'conv_1')) # 32x32x1 -> 16x16x16\n",
    "    h2 = conv2d_with_pooling(h1, 16, 32, 'conv_2')# 16x16x16 -> 8x8x32\n",
    "    h2_flat = tf.reshape(h2,[-1, 8*8*32])\n",
    "    h1_flat = tf.reshape(h1,[-1, 16*16*16])\n",
    "\n",
    "    concat = tf.concat([h1_flat, h2_flat, x_audio], 1)\n",
    "    h = lrelu(dense(concat, 16*16*16 + 8*8*32 + 128, 100, scope='h'))\n",
    "    pred = dense(h, 100, ydim, scope = 'pred')\n",
    "\n",
    "    \n",
    "    loss = tf.nn.sigmoid_cross_entropy_with_logits(labels=Y, logits=pred)\n",
    "    mloss = tf.reduce_mean(loss)\n",
    "\n",
    "    train = tf.train.AdamOptimizer(tstep_size).minimize(loss)\n",
    "    \n",
    "    return X, Y, keep_prob, pred, loss, mloss, train"
   ]
  },
  {
   "cell_type": "code",
   "execution_count": 4,
   "metadata": {},
   "outputs": [],
   "source": [
    "X, Y, keep_prob, pred, loss, mloss, train = build_graph(tstep_size=1e-3)\n"
   ]
  },
  {
   "cell_type": "code",
   "execution_count": 4,
   "metadata": {},
   "outputs": [],
   "source": [
    "# GRAPH CONV\n",
    "xdim = 1024+128\n",
    "ydim = 3862\n",
    "X = tf.placeholder(tf.float32, shape=[None, xdim], name='X')\n",
    "Y = tf.placeholder(tf.float32, shape=[None, ydim], name='Y')\n",
    "keep_prob = tf.placeholder(tf.float32, name='keep_prob')\n",
    "\n",
    "x_img, x_audio = tf.split(X, [1024, 128], axis=-1)\n",
    "\n",
    "img_reshape = tf.reshape(x_img, [-1, 32, 32, 1])\n",
    "\n",
    "h1 = lrelu(conv2d(img_reshape, 1, 16, 'conv_1')) # 32x32x1 -> 16x16x16\n",
    "h2 = conv2d_with_pooling(h1, 16, 32, 'conv_2')# 16x16x16 -> 8x8x32\n",
    "h2_flat = tf.reshape(h2,[-1, 8*8*32])\n",
    "h1_flat = tf.reshape(h1,[-1, 16*16*16])\n",
    "\n",
    "concat = tf.concat([h1_flat, h2_flat, x_audio], 1)\n",
    "h = lrelu(dense(concat, 16*16*16 + 8*8*32 + 128, 100, scope='h'))\n",
    "pred = dense(h, 100, ydim, scope = 'pred')\n",
    "\n",
    "loss = tf.nn.sigmoid_cross_entropy_with_logits(labels=Y, logits=pred)\n",
    "mloss = tf.reduce_mean(loss)\n",
    "\n",
    "train = tf.train.AdamOptimizer(1e-3).minimize(loss)"
   ]
  },
  {
   "cell_type": "code",
   "execution_count": 5,
   "metadata": {},
   "outputs": [],
   "source": [
    "# INIT\n",
    "sess = tf.Session()\n",
    "sess.run(tf.global_variables_initializer())"
   ]
  },
  {
   "cell_type": "code",
   "execution_count": null,
   "metadata": {},
   "outputs": [],
   "source": []
  },
  {
   "cell_type": "code",
   "execution_count": null,
   "metadata": {},
   "outputs": [],
   "source": [
    "def train_iter(b, sess, mloss, X, Y, keep_prob, ):\n",
    "    for i in range(75):\n",
    "        batch = b.next_batch(32)\n",
    "        if i % 74 == 0:\n",
    "            loss = sess.run(mloss, feed_dict={X: b.x, Y: b.y, keep_prob:1.0})\n",
    "            print('step %d, loss %g' % (i, loss))\n",
    "            if i == 0:\n",
    "                loss_plt.append(loss)\n",
    "        sess.run(train, feed_dict={X: batch[0], Y: batch[1], keep_prob:0.5})"
   ]
  },
  {
   "cell_type": "code",
   "execution_count": null,
   "metadata": {},
   "outputs": [],
   "source": [
    "class file_iterator:\n",
    "    def __init__(self):\n",
    "        tempfile = '/home/ec2-user/data/yt8m/test_all/xx.tfrecord'\n",
    "        mirror = 'us'\n",
    "        partition = '2/video/train'\n",
    "        partition_parts = partition.split('/')\n",
    "        plan_url = 'http://data.yt8m.org/{}/download_plans/{}_{}.json'.format(\n",
    "              partition_parts[0], partition_parts[1], partition_parts[2])\n",
    "        download_plan = json.loads(urllib.request.urlopen(plan_url).read())\n",
    "        files = [f for f in download_plan['files'].keys()]\n",
    "\n",
    "        ct = 0\n",
    "        start = datetime.datetime.now()\n",
    "        loss_plt = []\n",
    "        \n",
    "    "
   ]
  },
  {
   "cell_type": "code",
   "execution_count": 6,
   "metadata": {
    "scrolled": true
   },
   "outputs": [
    {
     "name": "stdout",
     "output_type": "stream",
     "text": [
      "starting file 1 of 3844\n",
      "its been this much time: 0:00:00.000384\n",
      "0 % done\n",
      "trainKH.tfrecord\n",
      "Succesfully downloaded /home/ec2-user/data/yt8m/test_all/xx.tfrecord 4772265 bytes.\n",
      "download time: 0:00:00.334933\n",
      "step 0, loss 0.692879\n"
     ]
    },
    {
     "ename": "KeyboardInterrupt",
     "evalue": "",
     "output_type": "error",
     "traceback": [
      "\u001b[0;31m---------------------------------------------------------------------------\u001b[0m",
      "\u001b[0;31mKeyboardInterrupt\u001b[0m                         Traceback (most recent call last)",
      "\u001b[0;32m<ipython-input-6-3e8c353a2353>\u001b[0m in \u001b[0;36m<module>\u001b[0;34m()\u001b[0m\n\u001b[1;32m     43\u001b[0m             \u001b[0;32mif\u001b[0m \u001b[0mi\u001b[0m \u001b[0;34m==\u001b[0m \u001b[0;36m0\u001b[0m\u001b[0;34m:\u001b[0m\u001b[0;34m\u001b[0m\u001b[0m\n\u001b[1;32m     44\u001b[0m                 \u001b[0mloss_plt\u001b[0m\u001b[0;34m.\u001b[0m\u001b[0mappend\u001b[0m\u001b[0;34m(\u001b[0m\u001b[0mloss\u001b[0m\u001b[0;34m)\u001b[0m\u001b[0;34m\u001b[0m\u001b[0m\n\u001b[0;32m---> 45\u001b[0;31m         \u001b[0msess\u001b[0m\u001b[0;34m.\u001b[0m\u001b[0mrun\u001b[0m\u001b[0;34m(\u001b[0m\u001b[0mtrain\u001b[0m\u001b[0;34m,\u001b[0m \u001b[0mfeed_dict\u001b[0m\u001b[0;34m=\u001b[0m\u001b[0;34m{\u001b[0m\u001b[0mX\u001b[0m\u001b[0;34m:\u001b[0m \u001b[0mbatch\u001b[0m\u001b[0;34m[\u001b[0m\u001b[0;36m0\u001b[0m\u001b[0;34m]\u001b[0m\u001b[0;34m,\u001b[0m \u001b[0mY\u001b[0m\u001b[0;34m:\u001b[0m \u001b[0mbatch\u001b[0m\u001b[0;34m[\u001b[0m\u001b[0;36m1\u001b[0m\u001b[0;34m]\u001b[0m\u001b[0;34m,\u001b[0m \u001b[0mkeep_prob\u001b[0m\u001b[0;34m:\u001b[0m\u001b[0;36m0.5\u001b[0m\u001b[0;34m}\u001b[0m\u001b[0;34m)\u001b[0m\u001b[0;34m\u001b[0m\u001b[0m\n\u001b[0m\u001b[1;32m     46\u001b[0m \u001b[0;34m\u001b[0m\u001b[0m\n\u001b[1;32m     47\u001b[0m     \u001b[0mprint\u001b[0m\u001b[0;34m(\u001b[0m\u001b[0;34m''\u001b[0m\u001b[0;34m)\u001b[0m\u001b[0;34m\u001b[0m\u001b[0m\n",
      "\u001b[0;32m~/anaconda3/lib/python3.6/site-packages/tensorflow/python/client/session.py\u001b[0m in \u001b[0;36mrun\u001b[0;34m(self, fetches, feed_dict, options, run_metadata)\u001b[0m\n\u001b[1;32m    898\u001b[0m     \u001b[0;32mtry\u001b[0m\u001b[0;34m:\u001b[0m\u001b[0;34m\u001b[0m\u001b[0m\n\u001b[1;32m    899\u001b[0m       result = self._run(None, fetches, feed_dict, options_ptr,\n\u001b[0;32m--> 900\u001b[0;31m                          run_metadata_ptr)\n\u001b[0m\u001b[1;32m    901\u001b[0m       \u001b[0;32mif\u001b[0m \u001b[0mrun_metadata\u001b[0m\u001b[0;34m:\u001b[0m\u001b[0;34m\u001b[0m\u001b[0m\n\u001b[1;32m    902\u001b[0m         \u001b[0mproto_data\u001b[0m \u001b[0;34m=\u001b[0m \u001b[0mtf_session\u001b[0m\u001b[0;34m.\u001b[0m\u001b[0mTF_GetBuffer\u001b[0m\u001b[0;34m(\u001b[0m\u001b[0mrun_metadata_ptr\u001b[0m\u001b[0;34m)\u001b[0m\u001b[0;34m\u001b[0m\u001b[0m\n",
      "\u001b[0;32m~/anaconda3/lib/python3.6/site-packages/tensorflow/python/client/session.py\u001b[0m in \u001b[0;36m_run\u001b[0;34m(self, handle, fetches, feed_dict, options, run_metadata)\u001b[0m\n\u001b[1;32m   1133\u001b[0m     \u001b[0;32mif\u001b[0m \u001b[0mfinal_fetches\u001b[0m \u001b[0;32mor\u001b[0m \u001b[0mfinal_targets\u001b[0m \u001b[0;32mor\u001b[0m \u001b[0;34m(\u001b[0m\u001b[0mhandle\u001b[0m \u001b[0;32mand\u001b[0m \u001b[0mfeed_dict_tensor\u001b[0m\u001b[0;34m)\u001b[0m\u001b[0;34m:\u001b[0m\u001b[0;34m\u001b[0m\u001b[0m\n\u001b[1;32m   1134\u001b[0m       results = self._do_run(handle, final_targets, final_fetches,\n\u001b[0;32m-> 1135\u001b[0;31m                              feed_dict_tensor, options, run_metadata)\n\u001b[0m\u001b[1;32m   1136\u001b[0m     \u001b[0;32melse\u001b[0m\u001b[0;34m:\u001b[0m\u001b[0;34m\u001b[0m\u001b[0m\n\u001b[1;32m   1137\u001b[0m       \u001b[0mresults\u001b[0m \u001b[0;34m=\u001b[0m \u001b[0;34m[\u001b[0m\u001b[0;34m]\u001b[0m\u001b[0;34m\u001b[0m\u001b[0m\n",
      "\u001b[0;32m~/anaconda3/lib/python3.6/site-packages/tensorflow/python/client/session.py\u001b[0m in \u001b[0;36m_do_run\u001b[0;34m(self, handle, target_list, fetch_list, feed_dict, options, run_metadata)\u001b[0m\n\u001b[1;32m   1314\u001b[0m     \u001b[0;32mif\u001b[0m \u001b[0mhandle\u001b[0m \u001b[0;32mis\u001b[0m \u001b[0;32mNone\u001b[0m\u001b[0;34m:\u001b[0m\u001b[0;34m\u001b[0m\u001b[0m\n\u001b[1;32m   1315\u001b[0m       return self._do_call(_run_fn, feeds, fetches, targets, options,\n\u001b[0;32m-> 1316\u001b[0;31m                            run_metadata)\n\u001b[0m\u001b[1;32m   1317\u001b[0m     \u001b[0;32melse\u001b[0m\u001b[0;34m:\u001b[0m\u001b[0;34m\u001b[0m\u001b[0m\n\u001b[1;32m   1318\u001b[0m       \u001b[0;32mreturn\u001b[0m \u001b[0mself\u001b[0m\u001b[0;34m.\u001b[0m\u001b[0m_do_call\u001b[0m\u001b[0;34m(\u001b[0m\u001b[0m_prun_fn\u001b[0m\u001b[0;34m,\u001b[0m \u001b[0mhandle\u001b[0m\u001b[0;34m,\u001b[0m \u001b[0mfeeds\u001b[0m\u001b[0;34m,\u001b[0m \u001b[0mfetches\u001b[0m\u001b[0;34m)\u001b[0m\u001b[0;34m\u001b[0m\u001b[0m\n",
      "\u001b[0;32m~/anaconda3/lib/python3.6/site-packages/tensorflow/python/client/session.py\u001b[0m in \u001b[0;36m_do_call\u001b[0;34m(self, fn, *args)\u001b[0m\n\u001b[1;32m   1320\u001b[0m   \u001b[0;32mdef\u001b[0m \u001b[0m_do_call\u001b[0m\u001b[0;34m(\u001b[0m\u001b[0mself\u001b[0m\u001b[0;34m,\u001b[0m \u001b[0mfn\u001b[0m\u001b[0;34m,\u001b[0m \u001b[0;34m*\u001b[0m\u001b[0margs\u001b[0m\u001b[0;34m)\u001b[0m\u001b[0;34m:\u001b[0m\u001b[0;34m\u001b[0m\u001b[0m\n\u001b[1;32m   1321\u001b[0m     \u001b[0;32mtry\u001b[0m\u001b[0;34m:\u001b[0m\u001b[0;34m\u001b[0m\u001b[0m\n\u001b[0;32m-> 1322\u001b[0;31m       \u001b[0;32mreturn\u001b[0m \u001b[0mfn\u001b[0m\u001b[0;34m(\u001b[0m\u001b[0;34m*\u001b[0m\u001b[0margs\u001b[0m\u001b[0;34m)\u001b[0m\u001b[0;34m\u001b[0m\u001b[0m\n\u001b[0m\u001b[1;32m   1323\u001b[0m     \u001b[0;32mexcept\u001b[0m \u001b[0merrors\u001b[0m\u001b[0;34m.\u001b[0m\u001b[0mOpError\u001b[0m \u001b[0;32mas\u001b[0m \u001b[0me\u001b[0m\u001b[0;34m:\u001b[0m\u001b[0;34m\u001b[0m\u001b[0m\n\u001b[1;32m   1324\u001b[0m       \u001b[0mmessage\u001b[0m \u001b[0;34m=\u001b[0m \u001b[0mcompat\u001b[0m\u001b[0;34m.\u001b[0m\u001b[0mas_text\u001b[0m\u001b[0;34m(\u001b[0m\u001b[0me\u001b[0m\u001b[0;34m.\u001b[0m\u001b[0mmessage\u001b[0m\u001b[0;34m)\u001b[0m\u001b[0;34m\u001b[0m\u001b[0m\n",
      "\u001b[0;32m~/anaconda3/lib/python3.6/site-packages/tensorflow/python/client/session.py\u001b[0m in \u001b[0;36m_run_fn\u001b[0;34m(feed_dict, fetch_list, target_list, options, run_metadata)\u001b[0m\n\u001b[1;32m   1305\u001b[0m       \u001b[0mself\u001b[0m\u001b[0;34m.\u001b[0m\u001b[0m_extend_graph\u001b[0m\u001b[0;34m(\u001b[0m\u001b[0;34m)\u001b[0m\u001b[0;34m\u001b[0m\u001b[0m\n\u001b[1;32m   1306\u001b[0m       return self._call_tf_sessionrun(\n\u001b[0;32m-> 1307\u001b[0;31m           options, feed_dict, fetch_list, target_list, run_metadata)\n\u001b[0m\u001b[1;32m   1308\u001b[0m \u001b[0;34m\u001b[0m\u001b[0m\n\u001b[1;32m   1309\u001b[0m     \u001b[0;32mdef\u001b[0m \u001b[0m_prun_fn\u001b[0m\u001b[0;34m(\u001b[0m\u001b[0mhandle\u001b[0m\u001b[0;34m,\u001b[0m \u001b[0mfeed_dict\u001b[0m\u001b[0;34m,\u001b[0m \u001b[0mfetch_list\u001b[0m\u001b[0;34m)\u001b[0m\u001b[0;34m:\u001b[0m\u001b[0;34m\u001b[0m\u001b[0m\n",
      "\u001b[0;32m~/anaconda3/lib/python3.6/site-packages/tensorflow/python/client/session.py\u001b[0m in \u001b[0;36m_call_tf_sessionrun\u001b[0;34m(self, options, feed_dict, fetch_list, target_list, run_metadata)\u001b[0m\n\u001b[1;32m   1407\u001b[0m       return tf_session.TF_SessionRun_wrapper(\n\u001b[1;32m   1408\u001b[0m           \u001b[0mself\u001b[0m\u001b[0;34m.\u001b[0m\u001b[0m_session\u001b[0m\u001b[0;34m,\u001b[0m \u001b[0moptions\u001b[0m\u001b[0;34m,\u001b[0m \u001b[0mfeed_dict\u001b[0m\u001b[0;34m,\u001b[0m \u001b[0mfetch_list\u001b[0m\u001b[0;34m,\u001b[0m \u001b[0mtarget_list\u001b[0m\u001b[0;34m,\u001b[0m\u001b[0;34m\u001b[0m\u001b[0m\n\u001b[0;32m-> 1409\u001b[0;31m           run_metadata)\n\u001b[0m\u001b[1;32m   1410\u001b[0m     \u001b[0;32melse\u001b[0m\u001b[0;34m:\u001b[0m\u001b[0;34m\u001b[0m\u001b[0m\n\u001b[1;32m   1411\u001b[0m       \u001b[0;32mwith\u001b[0m \u001b[0merrors\u001b[0m\u001b[0;34m.\u001b[0m\u001b[0mraise_exception_on_not_ok_status\u001b[0m\u001b[0;34m(\u001b[0m\u001b[0;34m)\u001b[0m \u001b[0;32mas\u001b[0m \u001b[0mstatus\u001b[0m\u001b[0;34m:\u001b[0m\u001b[0;34m\u001b[0m\u001b[0m\n",
      "\u001b[0;31mKeyboardInterrupt\u001b[0m: "
     ]
    }
   ],
   "source": [
    "# TRAIN\n",
    "one_hot = MultiLabelBinarizer(classes=[i for i in range(3862)])\n",
    "\n",
    "tempfile = '/home/ec2-user/data/yt8m/test_all/xx.tfrecord'\n",
    "mirror = 'us'\n",
    "partition = '2/video/train'\n",
    "partition_parts = partition.split('/')\n",
    "plan_url = 'http://data.yt8m.org/{}/download_plans/{}_{}.json'.format(\n",
    "      partition_parts[0], partition_parts[1], partition_parts[2])\n",
    "download_plan = json.loads(urllib.request.urlopen(plan_url).read())\n",
    "files = [f for f in download_plan['files'].keys()]\n",
    "\n",
    "ct = 0\n",
    "start = datetime.datetime.now()\n",
    "loss_plt = []\n",
    "for f in files[1:400]:\n",
    "    ct+=1\n",
    "    print('starting file {} of {}'.format(ct, len(files)))\n",
    "    print('its been this much time: {}'.format(datetime.datetime.now()-start))\n",
    "    print('{} % done'.format(int(ct/len(files)*100)))\n",
    "    try:\n",
    "        print('estimated time remaining {}'.format( (datetime.datetime.now()-start)/ ((ct-1)/(len(files)-(ct-1))) ))\n",
    "    except:\n",
    "        pass\n",
    "    print(f)\n",
    "    \n",
    "    s=  datetime.datetime.now()\n",
    "    download_url = 'http://%s.data.yt8m.org/%s/%s' % (mirror, partition, f)\n",
    "    download_file(download_url, tempfile)\n",
    "    \n",
    "    print('download time: {}'.format(datetime.datetime.now()-s))\n",
    "    \n",
    "    vid_ids, labels, mean_rgb, mean_audio = get_data_from_file(tempfile)\n",
    "    \n",
    "    onehot_labels = one_hot.fit_transform(labels)\n",
    "    b = BatchIterator(onehot_labels, mean_rgb,mean_audio)\n",
    "    # TRAIN\n",
    "    for i in range(75):\n",
    "        batch = b.next_batch(32)\n",
    "        if i % 74 == 0:\n",
    "            loss = sess.run(mloss, feed_dict={X: b.x, Y: b.y, keep_prob:1.0})\n",
    "            print('step %d, loss %g' % (i, loss))\n",
    "            if i == 0:\n",
    "                loss_plt.append(loss)\n",
    "        sess.run(train, feed_dict={X: batch[0], Y: batch[1], keep_prob:0.5})\n",
    "\n",
    "    print('')"
   ]
  },
  {
   "cell_type": "code",
   "execution_count": null,
   "metadata": {},
   "outputs": [],
   "source": [
    "plt.plot(loss_plt[300:])"
   ]
  },
  {
   "cell_type": "code",
   "execution_count": 7,
   "metadata": {},
   "outputs": [
    {
     "name": "stdout",
     "output_type": "stream",
     "text": [
      "INFO:tensorflow:No assets to save.\n",
      "INFO:tensorflow:No assets to write.\n",
      "INFO:tensorflow:SavedModel written to: /home/ec2-user/Notebooks/MyModel18/saved_model.pb\n"
     ]
    },
    {
     "data": {
      "text/plain": [
       "b'/home/ec2-user/Notebooks/MyModel18/saved_model.pb'"
      ]
     },
     "execution_count": 7,
     "metadata": {},
     "output_type": "execute_result"
    }
   ],
   "source": [
    "# SAVE\n",
    "\n",
    "export_dir = '/home/ec2-user/Notebooks/MyModel18/'\n",
    "\n",
    "builder = tf.saved_model.builder.SavedModelBuilder(export_dir)\n",
    "\n",
    "sig_def = tf.saved_model.signature_def_utils.build_signature_def(\n",
    "                                        inputs= {\"X\": tf.saved_model.utils.build_tensor_info(X), \n",
    "                                                 \"Y\":tf.saved_model.utils.build_tensor_info(Y), \n",
    "                                                 \"keep_prob\":tf.saved_model.utils.build_tensor_info(keep_prob)},\n",
    "                                        outputs= {\"pred\": tf.saved_model.utils.build_tensor_info(pred)})\n",
    "\n",
    "builder.add_meta_graph_and_variables(sess,\n",
    "                                  ['tag'],\n",
    "                                     signature_def_map= {\"model\":sig_def}        \n",
    "                                    )\n",
    "builder.save()"
   ]
  },
  {
   "cell_type": "markdown",
   "metadata": {},
   "source": [
    "# TRAIN\n",
    "one_hot = MultiLabelBinarizer(classes=[i for i in range(3862)])\n",
    "datadir = '/home/ec2-user/data/yt8m/train/'\n",
    "\n",
    "# Iterate through train directory\n",
    "for file in os.listdir(datadir)[:13]:\n",
    "    if file[-5:]=='.json':\n",
    "        continue\n",
    "    filename = datadir + file\n",
    "    vid_ids, labels, mean_rgb, mean_audio = get_data_from_file(filename)\n",
    "\n",
    "    onehot_labels = one_hot.fit_transform(labels)\n",
    "    #onehot_labels = onehot_labels[:,:ydim]\n",
    "    \n",
    "    b = BatchIterator(onehot_labels, mean_rgb,mean_audio)\n",
    "    # TRAIN\n",
    "    for i in range(1001):\n",
    "        batch = b.next_batch(32)\n",
    "        if i % 500 == 0:\n",
    "            loss = sess.run(mloss, feed_dict={X: batch[0], Y: batch[1], keep_prob:1.0})\n",
    "            print('step %d, loss %g' % (i, loss))\n",
    "        sess.run(train, feed_dict={X: batch[0], Y: batch[1], keep_prob:0.5})\n",
    "\n",
    "    print('')\n",
    "    \n",
    "    \n",
    "    # print('test accuracy %g' % sess.run(accuracy, \n",
    "    #                                     feed_dict={X: mnist.test.images, y_: mnist.test.labels}))\n"
   ]
  },
  {
   "cell_type": "code",
   "execution_count": null,
   "metadata": {},
   "outputs": [],
   "source": [
    "#EVALUATE\n",
    "datadir = '/home/ec2-user/data/yt8m/validate/'\n",
    "APC = AveragePrecisionCalculator()\n",
    "appp = []\n",
    "for file in os.listdir(datadir)[:20]:\n",
    "    if file[-5:]=='.json':\n",
    "        continue\n",
    "    filename = datadir + file    \n",
    "    vid_ids, labels, mean_rgb, mean_audio = get_data_from_file(filename)\n",
    "\n",
    "    onehot_labels = one_hot.fit_transform(labels)\n",
    "    #onehot_labels = onehot_labels[:,:869]\n",
    "    \n",
    "    b = BatchIterator(onehot_labels, mean_rgb,mean_audio)\n",
    "    \n",
    "    p = sess.run(tf.sigmoid(pred), feed_dict={X: b.x, Y: b.y, keep_prob:1.0})\n",
    "\n",
    "    ap = 0\n",
    "    for i in range(p.shape[0]):\n",
    "        ap+=APC.ap(p[i], b.y[i])\n",
    "\n",
    "    ap_avg = ap/p.shape[0]\n",
    "    print(ap_avg)\n",
    "    appp.append(ap_avg)\n",
    "print('average: {}'.format(np.mean(ap_avg)))"
   ]
  },
  {
   "cell_type": "markdown",
   "metadata": {},
   "source": [
    "#INFER\n",
    "datadir = '/home/ec2-user/data/yt8m/test/'\n",
    "outfile = 'out/'+ str(datetime.datetime.now())+'.csv'\n",
    "with open(outfile, 'w') as f:\n",
    "    pd.DataFrame(columns=['VideoIds','LabelConfidencePairs']).to_csv(f, index=False)\n",
    "    \n",
    "for file in os.listdir(datadir)[:3]:\n",
    "    if file[-5:]=='.json':\n",
    "        continue\n",
    "    filename = datadir + file\n",
    "\n",
    "    print(file)\n",
    "    \n",
    "    vid_ids, _, mean_rgb, mean_audio = get_data_from_file(filename,has_labels=False)\n",
    "    \n",
    "    fake_labels = [[1] for _ in range(len(mean_rgb))]\n",
    "    \n",
    "    b = BatchIterator(fake_labels, mean_rgb,mean_audio)\n",
    "    \n",
    "    p = sess.run(tf.sigmoid(pred), feed_dict={X: b.x, keep_prob:1.0})\n",
    "    \n",
    "    top20 = p.argsort(axis=-1)[:,-20:][:,::-1]\n",
    "    x_axis_index=np.tile(np.arange(len(p)), (top20.shape[1],1)).transpose() \n",
    "    probs = p[x_axis_index, top20]\n",
    "    \n",
    "    idx_probs = np.stack([top20, probs], axis=-1)\n",
    "    idx_probs = [[(int(idx_probs[i,j,0]), idx_probs[i,j,1]) for j in range(idx_probs.shape[1])] for i in range(idx_probs.shape[0])]\n",
    "    \n",
    "    out = [str(idx_probs[0]).replace('[', '').replace(']', '').replace('(', '').replace(')', '').replace(',', '') for i in range(len(idx_probs))]\n",
    "    \n",
    "    df = pd.DataFrame(data={'VideoId':vid_ids, 'LabelConfidencePairs':out})\n",
    "    with open(outfile, 'a') as f:\n",
    "        df.to_csv(f, header=False, index=False)\n",
    "    \n",
    "    \n",
    "    "
   ]
  },
  {
   "cell_type": "code",
   "execution_count": null,
   "metadata": {
    "scrolled": true
   },
   "outputs": [],
   "source": [
    "datadir = '/home/ec2-user/data/yt8m/test/'\n",
    "tempfile = '/home/ec2-user/data/yt8m/test_all/xx.tfrecord'\n",
    "outfile = 'out/'+ str(datetime.datetime.now())+'.csv'\n",
    "\n",
    "with open(outfile, 'w') as f:\n",
    "    pd.DataFrame(columns=['VideoId','LabelConfidencePairs']).to_csv(f, index=False)\n",
    "    \n",
    "mirror = 'us'\n",
    "partition = '2/video/test'\n",
    "partition_parts = partition.split('/')\n",
    "plan_url = 'http://data.yt8m.org/{}/download_plans/{}_{}.json'.format(\n",
    "      partition_parts[0], partition_parts[1], partition_parts[2])\n",
    "download_plan = json.loads(urllib.request.urlopen(plan_url).read())\n",
    "files = [f for f in download_plan['files'].keys()]\n",
    "\n",
    "ct = 0\n",
    "start = datetime.datetime.now()\n",
    "for f in files:\n",
    "    ct+=1\n",
    "    print('starting file {} of {}'.format(ct, len(files)))\n",
    "    print('its been this much time: {}'.format(datetime.datetime.now()-start))\n",
    "    print('{} % done'.format(int(ct/len(files)*100)))\n",
    "    try:\n",
    "        print('estimated time remaining {}'.format( (datetime.datetime.now()-start)/ ((ct-1)/(len(files)-(ct-1))) ))\n",
    "    except:\n",
    "        pass\n",
    "    print(f)\n",
    "    \n",
    "    download_url = 'http://%s.data.yt8m.org/%s/%s' % (mirror, partition, f)\n",
    "    download_file(download_url, tempfile)\n",
    "    \n",
    "    vid_ids, _, mean_rgb, mean_audio = get_data_from_file(tempfile, has_labels=False)\n",
    "    \n",
    "    fake_labels = [[1] for _ in range(len(mean_rgb))]\n",
    "    b = BatchIterator(fake_labels, mean_rgb,mean_audio)\n",
    "    \n",
    "    p = sess.run(tf.sigmoid(pred), feed_dict={X: b.x, keep_prob:1.0})\n",
    "    \n",
    "    top20 = p.argsort(axis=-1)[:,-20:][:,::-1]\n",
    "    x_axis_index=np.tile(np.arange(len(p)), (top20.shape[1],1)).transpose() \n",
    "    probs = p[x_axis_index, top20]\n",
    "    idx_probs = np.stack([top20, probs], axis=-1)\n",
    "    idx_probs = [[(int(idx_probs[i,j,0]), idx_probs[i,j,1]) for j in range(idx_probs.shape[1])] for i in range(idx_probs.shape[0])]\n",
    "    out = [str(idx_probs[i]).replace('[', '').replace(']', '').replace('(', '').replace(')', '').replace(',', '') for i in range(len(idx_probs))]\n",
    "    df = pd.DataFrame(data={'VideoId':vid_ids, 'LabelConfidencePairs':out})\n",
    "    \n",
    "    with open(outfile, 'a') as f:\n",
    "        df.to_csv(f, header=False, index=False)"
   ]
  },
  {
   "cell_type": "code",
   "execution_count": null,
   "metadata": {},
   "outputs": [],
   "source": []
  },
  {
   "cell_type": "code",
   "execution_count": null,
   "metadata": {},
   "outputs": [],
   "source": []
  },
  {
   "cell_type": "code",
   "execution_count": null,
   "metadata": {},
   "outputs": [],
   "source": []
  },
  {
   "cell_type": "code",
   "execution_count": null,
   "metadata": {},
   "outputs": [],
   "source": []
  },
  {
   "cell_type": "code",
   "execution_count": null,
   "metadata": {},
   "outputs": [],
   "source": []
  },
  {
   "cell_type": "code",
   "execution_count": null,
   "metadata": {},
   "outputs": [],
   "source": []
  },
  {
   "cell_type": "code",
   "execution_count": null,
   "metadata": {},
   "outputs": [],
   "source": [
    "p = sess.run(tf.sigmoid(pred), feed_dict={X: b.x, Y: b.y})\n",
    "\n",
    "predicted = one_hot.inverse_transform(np.concatenate([np.array(p>.5, dtype=int), np.zeros([292,3862-869])], axis=1))\n",
    "actual = one_hot.inverse_transform(np.concatenate([b.y, np.zeros([292,3862-869])], axis=1))\n",
    "\n",
    "\n"
   ]
  },
  {
   "cell_type": "code",
   "execution_count": null,
   "metadata": {},
   "outputs": [],
   "source": [
    "correct=0\n",
    "\n",
    "for i in range(len(actual)):\n",
    "    if actual[i]==predicted[i]:\n",
    "        correct+=1\n",
    "print(correct/len(actual))"
   ]
  },
  {
   "cell_type": "code",
   "execution_count": null,
   "metadata": {},
   "outputs": [],
   "source": [
    "actual[0]==predicted[0]"
   ]
  },
  {
   "cell_type": "code",
   "execution_count": null,
   "metadata": {},
   "outputs": [],
   "source": [
    "actual"
   ]
  },
  {
   "cell_type": "code",
   "execution_count": null,
   "metadata": {},
   "outputs": [],
   "source": [
    "predicted"
   ]
  },
  {
   "cell_type": "code",
   "execution_count": null,
   "metadata": {
    "scrolled": true
   },
   "outputs": [],
   "source": [
    "p.shape"
   ]
  },
  {
   "cell_type": "code",
   "execution_count": null,
   "metadata": {},
   "outputs": [],
   "source": [
    "one_hot.inverse_transform(np.concatenate([batch[1], np.zeros([32,3862-869])], axis=1))"
   ]
  },
  {
   "cell_type": "code",
   "execution_count": null,
   "metadata": {
    "scrolled": true
   },
   "outputs": [],
   "source": [
    "one_hot.classes[:869][batch[1][0]>.5]"
   ]
  },
  {
   "cell_type": "code",
   "execution_count": null,
   "metadata": {},
   "outputs": [],
   "source": [
    "one_hot.classes"
   ]
  },
  {
   "cell_type": "code",
   "execution_count": null,
   "metadata": {},
   "outputs": [],
   "source": [
    "np.zeros(2)[[True,False]]"
   ]
  },
  {
   "cell_type": "code",
   "execution_count": null,
   "metadata": {},
   "outputs": [],
   "source": []
  },
  {
   "cell_type": "code",
   "execution_count": null,
   "metadata": {},
   "outputs": [],
   "source": []
  },
  {
   "cell_type": "code",
   "execution_count": null,
   "metadata": {},
   "outputs": [],
   "source": [
    "datadir = '/home/ec2-user/data/yt8m/test/'"
   ]
  },
  {
   "cell_type": "code",
   "execution_count": null,
   "metadata": {},
   "outputs": [],
   "source": [
    "file=os.listdir(datadir)[5]\n",
    "filename = datadir + file\n",
    "for example in tf.python_io.tf_record_iterator(filename):\n",
    "    tf_example = tf.train.Example.FromString(example)\n",
    "    vid_ids, labels, mean_rgb, mean_audio = get_data_from_file(filename)"
   ]
  },
  {
   "cell_type": "code",
   "execution_count": null,
   "metadata": {},
   "outputs": [],
   "source": [
    "def get_data_from_file(filename, has_labels=True):\n",
    "    vid_ids, labels, mean_rgb, mean_audio = [], [], [], []\n",
    "\n",
    "    for example in tf.python_io.tf_record_iterator(filename):\n",
    "        tf_example = tf.train.Example.FromString(example)\n",
    "\n",
    "        vid_ids.append(tf_example.features.feature['id'].bytes_list.value[0].decode(encoding='UTF-8'))\n",
    "        labels.append(tf_example.features.feature['labels'].int64_list.value)\n",
    "        mean_rgb.append(tf_example.features.feature['mean_rgb'].float_list.value)\n",
    "        mean_audio.append(tf_example.features.feature['mean_audio'].float_list.value)\n",
    "    return vid_ids, labels, mean_rgb, mean_audio"
   ]
  },
  {
   "cell_type": "code",
   "execution_count": null,
   "metadata": {},
   "outputs": [],
   "source": [
    "labels[-1]"
   ]
  },
  {
   "cell_type": "code",
   "execution_count": null,
   "metadata": {},
   "outputs": [],
   "source": [
    "tf_example"
   ]
  },
  {
   "cell_type": "code",
   "execution_count": null,
   "metadata": {},
   "outputs": [],
   "source": []
  },
  {
   "cell_type": "code",
   "execution_count": null,
   "metadata": {},
   "outputs": [],
   "source": []
  },
  {
   "cell_type": "code",
   "execution_count": null,
   "metadata": {},
   "outputs": [],
   "source": []
  },
  {
   "cell_type": "code",
   "execution_count": null,
   "metadata": {},
   "outputs": [],
   "source": [
    "p = sess.run(tf.sigmoid(pred),\n",
    "        feed_dict={X: batch[0], Y: batch[1]})"
   ]
  },
  {
   "cell_type": "code",
   "execution_count": null,
   "metadata": {},
   "outputs": [],
   "source": [
    "np.sum(p>.5, axis=1)"
   ]
  },
  {
   "cell_type": "code",
   "execution_count": null,
   "metadata": {},
   "outputs": [],
   "source": [
    "one_hot.classes_[p[6]>.5]"
   ]
  },
  {
   "cell_type": "code",
   "execution_count": null,
   "metadata": {},
   "outputs": [],
   "source": [
    "yy = batch[1][6]"
   ]
  },
  {
   "cell_type": "code",
   "execution_count": null,
   "metadata": {},
   "outputs": [],
   "source": [
    "one_hot.classes_[yy>.5]"
   ]
  },
  {
   "cell_type": "code",
   "execution_count": null,
   "metadata": {},
   "outputs": [],
   "source": [
    "yy"
   ]
  },
  {
   "cell_type": "code",
   "execution_count": null,
   "metadata": {},
   "outputs": [],
   "source": [
    "import apc_file"
   ]
  },
  {
   "cell_type": "code",
   "execution_count": null,
   "metadata": {},
   "outputs": [],
   "source": [
    "apcc = apc_file.AveragePrecisionCalculator()"
   ]
  },
  {
   "cell_type": "code",
   "execution_count": null,
   "metadata": {},
   "outputs": [],
   "source": [
    "apcc.ap(p[2], b.y[2])"
   ]
  },
  {
   "cell_type": "code",
   "execution_count": null,
   "metadata": {},
   "outputs": [],
   "source": [
    "p"
   ]
  },
  {
   "cell_type": "code",
   "execution_count": null,
   "metadata": {},
   "outputs": [],
   "source": []
  }
 ],
 "metadata": {
  "kernelspec": {
   "display_name": "Python 3",
   "language": "python",
   "name": "python3"
  },
  "language_info": {
   "codemirror_mode": {
    "name": "ipython",
    "version": 3
   },
   "file_extension": ".py",
   "mimetype": "text/x-python",
   "name": "python",
   "nbconvert_exporter": "python",
   "pygments_lexer": "ipython3",
   "version": "3.6.5"
  }
 },
 "nbformat": 4,
 "nbformat_minor": 2
}
