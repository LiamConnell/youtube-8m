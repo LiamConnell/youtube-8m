{
 "cells": [
  {
   "cell_type": "code",
   "execution_count": 6,
   "metadata": {},
   "outputs": [],
   "source": [
    "import tensorflow as tf\n",
    "import numpy as np\n",
    "import os\n",
    "from utils import *\n",
    "from sklearn.preprocessing import MultiLabelBinarizer\n",
    "import datetime\n",
    "import pandas as pd\n",
    "\n",
    "from tensorflow.python.saved_model import tag_constants\n",
    "\n",
    "\n",
    "import tensorflow.contrib.slim as slim\n",
    "\n",
    "from apc import AveragePrecisionCalculator\n",
    "\n",
    "import matplotlib.pyplot as plt"
   ]
  },
  {
   "cell_type": "code",
   "execution_count": null,
   "metadata": {},
   "outputs": [],
   "source": [
    "dirr = '/home/ec2-user/Notebooks/Models/SmallerStep/loss_plt.txt'"
   ]
  },
  {
   "cell_type": "code",
   "execution_count": null,
   "metadata": {},
   "outputs": [],
   "source": [
    "with open(dirr, 'r') as file:\n",
    "    ls = eval(file.read())"
   ]
  },
  {
   "cell_type": "code",
   "execution_count": null,
   "metadata": {},
   "outputs": [],
   "source": [
    "plt.plot(ls[300:500])"
   ]
  },
  {
   "cell_type": "markdown",
   "metadata": {},
   "source": [
    "## "
   ]
  },
  {
   "cell_type": "code",
   "execution_count": null,
   "metadata": {},
   "outputs": [],
   "source": []
  },
  {
   "cell_type": "code",
   "execution_count": 7,
   "metadata": {},
   "outputs": [],
   "source": [
    "import hashlib\n",
    "import itertools\n",
    "import json\n",
    "import os\n",
    "from six.moves import urllib\n",
    "import sys"
   ]
  },
  {
   "cell_type": "code",
   "execution_count": 8,
   "metadata": {},
   "outputs": [],
   "source": [
    "tf.reset_default_graph()"
   ]
  },
  {
   "cell_type": "code",
   "execution_count": 9,
   "metadata": {},
   "outputs": [],
   "source": [
    "# INIT\n",
    "sess = tf.Session()\n",
    "#sess.run(tf.global_variables_initializer())"
   ]
  },
  {
   "cell_type": "code",
   "execution_count": 10,
   "metadata": {
    "scrolled": true
   },
   "outputs": [
    {
     "name": "stdout",
     "output_type": "stream",
     "text": [
      "INFO:tensorflow:Restoring parameters from /home/ec2-user/Notebooks/Models/MyModel/Model/variables/variables\n"
     ]
    }
   ],
   "source": [
    "# LOAD GRAPH\n",
    "directory  = '/home/ec2-user/Notebooks/Models/MyModel/'\n",
    "lossplt_dir = directory + 'loss_plt.txt'\n",
    "export_dir = directory + 'Model/'\n",
    "l = tf.saved_model.loader.load(sess, \n",
    "                           ['tag'],#[tag_constants.SERVING], \n",
    "                           export_dir)"
   ]
  },
  {
   "cell_type": "code",
   "execution_count": 11,
   "metadata": {},
   "outputs": [],
   "source": [
    "graph = tf.get_default_graph()\n",
    "X = graph.get_tensor_by_name(\"X:0\")\n",
    "Y = graph.get_tensor_by_name(\"Y:0\")\n",
    "keep_prob = graph.get_tensor_by_name(\"keep_prob:0\")\n",
    "pred = graph.get_tensor_by_name(\"pred/add:0\")"
   ]
  },
  {
   "cell_type": "code",
   "execution_count": 12,
   "metadata": {},
   "outputs": [
    {
     "data": {
      "text/plain": [
       "<tf.Tensor 'X:0' shape=(?, 1152) dtype=float32>"
      ]
     },
     "execution_count": 12,
     "metadata": {},
     "output_type": "execute_result"
    }
   ],
   "source": [
    "X"
   ]
  },
  {
   "cell_type": "code",
   "execution_count": null,
   "metadata": {},
   "outputs": [],
   "source": [
    "#EVALUATE\n",
    "one_hot = MultiLabelBinarizer(classes=[i for i in range(3862)])\n",
    "\n",
    "datadir = '/home/ec2-user/data/yt8m/validate/'\n",
    "APC = AveragePrecisionCalculator()\n",
    "appp = []\n",
    "for file in os.listdir(datadir)[:30]:\n",
    "    if file[-5:]=='.json':\n",
    "        continue\n",
    "    filename = datadir + file    \n",
    "    vid_ids, labels, mean_rgb, mean_audio = get_data_from_file(filename)\n",
    "\n",
    "    onehot_labels = one_hot.fit_transform(labels)\n",
    "    #onehot_labels = onehot_labels[:,:869]\n",
    "    \n",
    "    b = BatchIterator(onehot_labels, mean_rgb,mean_audio)\n",
    "    \n",
    "    p = sess.run(tf.sigmoid(pred), feed_dict={X: b.x, Y: b.y, keep_prob:1.0})\n",
    "\n",
    "    ap = 0\n",
    "    for i in range(p.shape[0]):\n",
    "        ap+=APC.ap(p[i], b.y[i])\n",
    "\n",
    "    ap_avg = ap/p.shape[0]\n",
    "    print(ap_avg)\n",
    "    appp.append(ap_avg)\n",
    "print('average: {}'.format(np.mean(ap_avg)))"
   ]
  },
  {
   "cell_type": "code",
   "execution_count": null,
   "metadata": {},
   "outputs": [],
   "source": []
  },
  {
   "cell_type": "code",
   "execution_count": null,
   "metadata": {},
   "outputs": [],
   "source": []
  },
  {
   "cell_type": "code",
   "execution_count": null,
   "metadata": {},
   "outputs": [],
   "source": [
    "with open(lossplt_dir, 'r') as file:\n",
    "    lp = file.read()"
   ]
  },
  {
   "cell_type": "code",
   "execution_count": null,
   "metadata": {},
   "outputs": [],
   "source": [
    "ls= eval(lp)"
   ]
  },
  {
   "cell_type": "code",
   "execution_count": null,
   "metadata": {},
   "outputs": [],
   "source": [
    "plt.plot(ls[500:])"
   ]
  },
  {
   "cell_type": "code",
   "execution_count": null,
   "metadata": {},
   "outputs": [],
   "source": []
  },
  {
   "cell_type": "code",
   "execution_count": null,
   "metadata": {},
   "outputs": [],
   "source": [
    "tf.saved_model.loader.load(\n",
    "    sess,\n",
    "    [tag_constants.SERVING],\n",
    "    '/home/ec2-user/Notebooks/MyModel/'\n",
    ")\n",
    "#X = tf.get_default_graph().get_tensor_by_name('X')\n"
   ]
  },
  {
   "cell_type": "code",
   "execution_count": null,
   "metadata": {},
   "outputs": [],
   "source": [
    "tf.get_collection(tf.GraphKeys.GLOBAL_VARIABLES)\n",
    "#[n.name for n in tf.get_default_graph().as_graph_def().node]\n"
   ]
  },
  {
   "cell_type": "code",
   "execution_count": null,
   "metadata": {},
   "outputs": [],
   "source": [
    "tf.global_variables()"
   ]
  },
  {
   "cell_type": "code",
   "execution_count": null,
   "metadata": {},
   "outputs": [],
   "source": [
    "XXX = tf.get_default_graph().get_tensor_by_name('conv_1/w:0')\n"
   ]
  },
  {
   "cell_type": "code",
   "execution_count": null,
   "metadata": {},
   "outputs": [],
   "source": [
    "# LOAD\n",
    "\n",
    "graph = tf.Graph()\n",
    "with graph.as_default():    \n",
    "    with tf.Session() as sess:\n",
    "        tf.saved_model.loader.load(\n",
    "            sess,\n",
    "            [tag_constants.SERVING],\n",
    "            '/home/ec2-user/Notebooks/MyModel3/'\n",
    "        )\n",
    "        sess.run(X, feed_dict={X:np.zeros([10,1024+128])})\n",
    "\n"
   ]
  },
  {
   "cell_type": "code",
   "execution_count": null,
   "metadata": {},
   "outputs": [],
   "source": [
    "X = tf.get_default_graph().get_tensor_by_name('X:0')\n",
    "        "
   ]
  },
  {
   "cell_type": "code",
   "execution_count": null,
   "metadata": {},
   "outputs": [],
   "source": [
    "tf.graph"
   ]
  },
  {
   "cell_type": "code",
   "execution_count": null,
   "metadata": {},
   "outputs": [],
   "source": []
  },
  {
   "cell_type": "code",
   "execution_count": null,
   "metadata": {},
   "outputs": [],
   "source": [
    "plt.plot(loss_plt[300:])"
   ]
  },
  {
   "cell_type": "code",
   "execution_count": null,
   "metadata": {},
   "outputs": [],
   "source": [
    "plt.plot(loss_plt[50:])"
   ]
  },
  {
   "cell_type": "code",
   "execution_count": null,
   "metadata": {},
   "outputs": [],
   "source": [
    "np.mean(loss_plt)"
   ]
  },
  {
   "cell_type": "markdown",
   "metadata": {},
   "source": [
    "# TRAIN\n",
    "one_hot = MultiLabelBinarizer(classes=[i for i in range(3862)])\n",
    "datadir = '/home/ec2-user/data/yt8m/train/'\n",
    "\n",
    "# Iterate through train directory\n",
    "for file in os.listdir(datadir)[:13]:\n",
    "    if file[-5:]=='.json':\n",
    "        continue\n",
    "    filename = datadir + file\n",
    "    vid_ids, labels, mean_rgb, mean_audio = get_data_from_file(filename)\n",
    "\n",
    "    onehot_labels = one_hot.fit_transform(labels)\n",
    "    #onehot_labels = onehot_labels[:,:ydim]\n",
    "    \n",
    "    b = BatchIterator(onehot_labels, mean_rgb,mean_audio)\n",
    "    # TRAIN\n",
    "    for i in range(1001):\n",
    "        batch = b.next_batch(32)\n",
    "        if i % 500 == 0:\n",
    "            loss = sess.run(mloss, feed_dict={X: batch[0], Y: batch[1], keep_prob:1.0})\n",
    "            print('step %d, loss %g' % (i, loss))\n",
    "        sess.run(train, feed_dict={X: batch[0], Y: batch[1], keep_prob:0.5})\n",
    "\n",
    "    print('')\n",
    "    \n",
    "    \n",
    "    # print('test accuracy %g' % sess.run(accuracy, \n",
    "    #                                     feed_dict={X: mnist.test.images, y_: mnist.test.labels}))\n"
   ]
  },
  {
   "cell_type": "code",
   "execution_count": null,
   "metadata": {},
   "outputs": [],
   "source": [
    "#EVALUATE\n",
    "datadir = '/home/ec2-user/data/yt8m/validate/'\n",
    "APC = AveragePrecisionCalculator()\n",
    "appp = []\n",
    "for file in os.listdir(datadir)[:20]:\n",
    "    if file[-5:]=='.json':\n",
    "        continue\n",
    "    filename = datadir + file    \n",
    "    vid_ids, labels, mean_rgb, mean_audio = get_data_from_file(filename)\n",
    "\n",
    "    onehot_labels = one_hot.fit_transform(labels)\n",
    "    #onehot_labels = onehot_labels[:,:869]\n",
    "    \n",
    "    b = BatchIterator(onehot_labels, mean_rgb,mean_audio)\n",
    "    \n",
    "    p = sess.run(tf.sigmoid(pred), feed_dict={X: b.x, Y: b.y, keep_prob:1.0})\n",
    "\n",
    "    ap = 0\n",
    "    for i in range(p.shape[0]):\n",
    "        ap+=APC.ap(p[i], b.y[i])\n",
    "\n",
    "    ap_avg = ap/p.shape[0]\n",
    "    print(ap_avg)\n",
    "    appp.append(ap_avg)\n",
    "print('average: {}'.format(np.mean(ap_avg)))"
   ]
  },
  {
   "cell_type": "markdown",
   "metadata": {},
   "source": [
    "#INFER\n",
    "datadir = '/home/ec2-user/data/yt8m/test/'\n",
    "outfile = 'out/'+ str(datetime.datetime.now())+'.csv'\n",
    "with open(outfile, 'w') as f:\n",
    "    pd.DataFrame(columns=['VideoIds','LabelConfidencePairs']).to_csv(f, index=False)\n",
    "    \n",
    "for file in os.listdir(datadir)[:3]:\n",
    "    if file[-5:]=='.json':\n",
    "        continue\n",
    "    filename = datadir + file\n",
    "\n",
    "    print(file)\n",
    "    \n",
    "    vid_ids, _, mean_rgb, mean_audio = get_data_from_file(filename,has_labels=False)\n",
    "    \n",
    "    fake_labels = [[1] for _ in range(len(mean_rgb))]\n",
    "    \n",
    "    b = BatchIterator(fake_labels, mean_rgb,mean_audio)\n",
    "    \n",
    "    p = sess.run(tf.sigmoid(pred), feed_dict={X: b.x, keep_prob:1.0})\n",
    "    \n",
    "    top20 = p.argsort(axis=-1)[:,-20:][:,::-1]\n",
    "    x_axis_index=np.tile(np.arange(len(p)), (top20.shape[1],1)).transpose() \n",
    "    probs = p[x_axis_index, top20]\n",
    "    \n",
    "    idx_probs = np.stack([top20, probs], axis=-1)\n",
    "    idx_probs = [[(int(idx_probs[i,j,0]), idx_probs[i,j,1]) for j in range(idx_probs.shape[1])] for i in range(idx_probs.shape[0])]\n",
    "    \n",
    "    out = [str(idx_probs[0]).replace('[', '').replace(']', '').replace('(', '').replace(')', '').replace(',', '') for i in range(len(idx_probs))]\n",
    "    \n",
    "    df = pd.DataFrame(data={'VideoId':vid_ids, 'LabelConfidencePairs':out})\n",
    "    with open(outfile, 'a') as f:\n",
    "        df.to_csv(f, header=False, index=False)\n",
    "    \n",
    "    \n",
    "    "
   ]
  },
  {
   "cell_type": "code",
   "execution_count": null,
   "metadata": {
    "scrolled": true
   },
   "outputs": [],
   "source": [
    "datadir = '/home/ec2-user/data/yt8m/test/'\n",
    "tempfile = '/home/ec2-user/data/yt8m/test_all/xx.tfrecord'\n",
    "outfile = 'out/'+ str(datetime.datetime.now())+'.csv'\n",
    "\n",
    "with open(outfile, 'w') as f:\n",
    "    pd.DataFrame(columns=['VideoId','LabelConfidencePairs']).to_csv(f, index=False)\n",
    "    \n",
    "mirror = 'us'\n",
    "partition = '2/video/test'\n",
    "partition_parts = partition.split('/')\n",
    "plan_url = 'http://data.yt8m.org/{}/download_plans/{}_{}.json'.format(\n",
    "      partition_parts[0], partition_parts[1], partition_parts[2])\n",
    "download_plan = json.loads(urllib.request.urlopen(plan_url).read())\n",
    "files = [f for f in download_plan['files'].keys()]\n",
    "\n",
    "ct = 0\n",
    "start = datetime.datetime.now()\n",
    "for f in files:\n",
    "    ct+=1\n",
    "    print('starting file {} of {}'.format(ct, len(files)))\n",
    "    print('its been this much time: {}'.format(datetime.datetime.now()-start))\n",
    "    print('{} % done'.format(int(ct/len(files)*100)))\n",
    "    try:\n",
    "        print('estimated time remaining {}'.format( (datetime.datetime.now()-start)/ ((ct-1)/(len(files)-(ct-1))) ))\n",
    "    except:\n",
    "        pass\n",
    "    print(f)\n",
    "    \n",
    "    download_url = 'http://%s.data.yt8m.org/%s/%s' % (mirror, partition, f)\n",
    "    download_file(download_url, tempfile)\n",
    "    \n",
    "    vid_ids, _, mean_rgb, mean_audio = get_data_from_file(tempfile, has_labels=False)\n",
    "    \n",
    "    fake_labels = [[1] for _ in range(len(mean_rgb))]\n",
    "    b = BatchIterator(fake_labels, mean_rgb,mean_audio)\n",
    "    \n",
    "    p = sess.run(tf.sigmoid(pred), feed_dict={X: b.x, keep_prob:1.0})\n",
    "    \n",
    "    top20 = p.argsort(axis=-1)[:,-20:][:,::-1]\n",
    "    x_axis_index=np.tile(np.arange(len(p)), (top20.shape[1],1)).transpose() \n",
    "    probs = p[x_axis_index, top20]\n",
    "    idx_probs = np.stack([top20, probs], axis=-1)\n",
    "    idx_probs = [[(int(idx_probs[i,j,0]), idx_probs[i,j,1]) for j in range(idx_probs.shape[1])] for i in range(idx_probs.shape[0])]\n",
    "    out = [str(idx_probs[i]).replace('[', '').replace(']', '').replace('(', '').replace(')', '').replace(',', '') for i in range(len(idx_probs))]\n",
    "    df = pd.DataFrame(data={'VideoId':vid_ids, 'LabelConfidencePairs':out})\n",
    "    \n",
    "    with open(outfile, 'a') as f:\n",
    "        df.to_csv(f, header=False, index=False)"
   ]
  },
  {
   "cell_type": "code",
   "execution_count": null,
   "metadata": {},
   "outputs": [],
   "source": []
  },
  {
   "cell_type": "code",
   "execution_count": null,
   "metadata": {},
   "outputs": [],
   "source": []
  },
  {
   "cell_type": "code",
   "execution_count": null,
   "metadata": {},
   "outputs": [],
   "source": []
  },
  {
   "cell_type": "code",
   "execution_count": null,
   "metadata": {},
   "outputs": [],
   "source": []
  },
  {
   "cell_type": "code",
   "execution_count": null,
   "metadata": {},
   "outputs": [],
   "source": []
  },
  {
   "cell_type": "code",
   "execution_count": null,
   "metadata": {},
   "outputs": [],
   "source": []
  },
  {
   "cell_type": "code",
   "execution_count": null,
   "metadata": {},
   "outputs": [],
   "source": [
    "p = sess.run(tf.sigmoid(pred), feed_dict={X: b.x, Y: b.y})\n",
    "\n",
    "predicted = one_hot.inverse_transform(np.concatenate([np.array(p>.5, dtype=int), np.zeros([292,3862-869])], axis=1))\n",
    "actual = one_hot.inverse_transform(np.concatenate([b.y, np.zeros([292,3862-869])], axis=1))\n",
    "\n",
    "\n"
   ]
  },
  {
   "cell_type": "code",
   "execution_count": null,
   "metadata": {},
   "outputs": [],
   "source": [
    "correct=0\n",
    "\n",
    "for i in range(len(actual)):\n",
    "    if actual[i]==predicted[i]:\n",
    "        correct+=1\n",
    "print(correct/len(actual))"
   ]
  },
  {
   "cell_type": "code",
   "execution_count": null,
   "metadata": {},
   "outputs": [],
   "source": [
    "actual[0]==predicted[0]"
   ]
  },
  {
   "cell_type": "code",
   "execution_count": null,
   "metadata": {},
   "outputs": [],
   "source": [
    "actual"
   ]
  },
  {
   "cell_type": "code",
   "execution_count": null,
   "metadata": {},
   "outputs": [],
   "source": [
    "predicted"
   ]
  },
  {
   "cell_type": "code",
   "execution_count": null,
   "metadata": {
    "scrolled": true
   },
   "outputs": [],
   "source": [
    "p.shape"
   ]
  },
  {
   "cell_type": "code",
   "execution_count": null,
   "metadata": {},
   "outputs": [],
   "source": [
    "one_hot.inverse_transform(np.concatenate([batch[1], np.zeros([32,3862-869])], axis=1))"
   ]
  },
  {
   "cell_type": "code",
   "execution_count": null,
   "metadata": {
    "scrolled": true
   },
   "outputs": [],
   "source": [
    "one_hot.classes[:869][batch[1][0]>.5]"
   ]
  },
  {
   "cell_type": "code",
   "execution_count": null,
   "metadata": {},
   "outputs": [],
   "source": [
    "one_hot.classes"
   ]
  },
  {
   "cell_type": "code",
   "execution_count": null,
   "metadata": {},
   "outputs": [],
   "source": [
    "np.zeros(2)[[True,False]]"
   ]
  },
  {
   "cell_type": "code",
   "execution_count": null,
   "metadata": {},
   "outputs": [],
   "source": []
  },
  {
   "cell_type": "code",
   "execution_count": null,
   "metadata": {},
   "outputs": [],
   "source": []
  },
  {
   "cell_type": "code",
   "execution_count": null,
   "metadata": {},
   "outputs": [],
   "source": [
    "datadir = '/home/ec2-user/data/yt8m/test/'"
   ]
  },
  {
   "cell_type": "code",
   "execution_count": null,
   "metadata": {},
   "outputs": [],
   "source": [
    "file=os.listdir(datadir)[5]\n",
    "filename = datadir + file\n",
    "for example in tf.python_io.tf_record_iterator(filename):\n",
    "    tf_example = tf.train.Example.FromString(example)\n",
    "    vid_ids, labels, mean_rgb, mean_audio = get_data_from_file(filename)"
   ]
  },
  {
   "cell_type": "code",
   "execution_count": null,
   "metadata": {},
   "outputs": [],
   "source": [
    "def get_data_from_file(filename, has_labels=True):\n",
    "    vid_ids, labels, mean_rgb, mean_audio = [], [], [], []\n",
    "\n",
    "    for example in tf.python_io.tf_record_iterator(filename):\n",
    "        tf_example = tf.train.Example.FromString(example)\n",
    "\n",
    "        vid_ids.append(tf_example.features.feature['id'].bytes_list.value[0].decode(encoding='UTF-8'))\n",
    "        labels.append(tf_example.features.feature['labels'].int64_list.value)\n",
    "        mean_rgb.append(tf_example.features.feature['mean_rgb'].float_list.value)\n",
    "        mean_audio.append(tf_example.features.feature['mean_audio'].float_list.value)\n",
    "    return vid_ids, labels, mean_rgb, mean_audio"
   ]
  },
  {
   "cell_type": "code",
   "execution_count": null,
   "metadata": {},
   "outputs": [],
   "source": [
    "labels[-1]"
   ]
  },
  {
   "cell_type": "code",
   "execution_count": null,
   "metadata": {},
   "outputs": [],
   "source": [
    "tf_example"
   ]
  },
  {
   "cell_type": "code",
   "execution_count": null,
   "metadata": {},
   "outputs": [],
   "source": []
  },
  {
   "cell_type": "code",
   "execution_count": null,
   "metadata": {},
   "outputs": [],
   "source": []
  },
  {
   "cell_type": "code",
   "execution_count": null,
   "metadata": {},
   "outputs": [],
   "source": []
  },
  {
   "cell_type": "code",
   "execution_count": null,
   "metadata": {},
   "outputs": [],
   "source": [
    "p = sess.run(tf.sigmoid(pred),\n",
    "        feed_dict={X: batch[0], Y: batch[1]})"
   ]
  },
  {
   "cell_type": "code",
   "execution_count": null,
   "metadata": {},
   "outputs": [],
   "source": [
    "np.sum(p>.5, axis=1)"
   ]
  },
  {
   "cell_type": "code",
   "execution_count": null,
   "metadata": {},
   "outputs": [],
   "source": [
    "one_hot.classes_[p[6]>.5]"
   ]
  },
  {
   "cell_type": "code",
   "execution_count": null,
   "metadata": {},
   "outputs": [],
   "source": [
    "yy = batch[1][6]"
   ]
  },
  {
   "cell_type": "code",
   "execution_count": null,
   "metadata": {},
   "outputs": [],
   "source": [
    "one_hot.classes_[yy>.5]"
   ]
  },
  {
   "cell_type": "code",
   "execution_count": null,
   "metadata": {},
   "outputs": [],
   "source": [
    "yy"
   ]
  },
  {
   "cell_type": "code",
   "execution_count": null,
   "metadata": {},
   "outputs": [],
   "source": [
    "import apc_file"
   ]
  },
  {
   "cell_type": "code",
   "execution_count": null,
   "metadata": {},
   "outputs": [],
   "source": [
    "apcc = apc_file.AveragePrecisionCalculator()"
   ]
  },
  {
   "cell_type": "code",
   "execution_count": null,
   "metadata": {},
   "outputs": [],
   "source": [
    "apcc.ap(p[2], b.y[2])"
   ]
  },
  {
   "cell_type": "code",
   "execution_count": null,
   "metadata": {},
   "outputs": [],
   "source": [
    "p"
   ]
  },
  {
   "cell_type": "code",
   "execution_count": null,
   "metadata": {},
   "outputs": [],
   "source": []
  }
 ],
 "metadata": {
  "kernelspec": {
   "display_name": "Python 3",
   "language": "python",
   "name": "python3"
  },
  "language_info": {
   "codemirror_mode": {
    "name": "ipython",
    "version": 3
   },
   "file_extension": ".py",
   "mimetype": "text/x-python",
   "name": "python",
   "nbconvert_exporter": "python",
   "pygments_lexer": "ipython3",
   "version": "3.6.5"
  }
 },
 "nbformat": 4,
 "nbformat_minor": 2
}
